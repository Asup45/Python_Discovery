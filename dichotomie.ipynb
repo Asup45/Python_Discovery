{
 "cells": [
  {
   "cell_type": "code",
   "execution_count": null,
   "id": "3d43dd97",
   "metadata": {},
   "outputs": [],
   "source": [
    "def main():\n",
    "    print(\"Bienvenue dans le jeu de la dichotomie !\")\n",
    "    return 0"
   ]
  },
  {
   "cell_type": "code",
   "execution_count": null,
   "id": "3cc0745a",
   "metadata": {},
   "outputs": [],
   "source": [
    "def main():\n",
    "    print(\"Bienvenue dans le jeu de la dichotomie !\")\n",
    "    # Demande au joueur un nom\n",
    "    userName = input(\"Entrez votre pseudo :\")\n",
    "    return 0"
   ]
  },
  {
   "cell_type": "code",
   "execution_count": null,
   "id": "1a5996f1",
   "metadata": {},
   "outputs": [],
   "source": [
    "# Instruction du jeu avec les valeurs minimale et maximale\n",
    "print(\"Pensez à un nombre entre \",minValue  ,\"et \",maxValue)"
   ]
  },
  {
   "cell_type": "code",
   "execution_count": null,
   "id": "bcafb7f6",
   "metadata": {},
   "outputs": [],
   "source": [
    "# Tant que l'utilisateur n'entre pas \"=\", on répète la boucle \n",
    "while inp != '=':\n",
    "    if inp == '+':\n",
    "        minValue = currentValue\n",
    "    elif inp == '-':\n",
    "        maxValue = currentValue\n",
    "\n",
    "    currentValue = (minValue + ((maxValue-minValue)//2))\n",
    "    print(\"Est-ce que votre nombre est plus grand, plus petit ou égal à \",currentValue,\" ? [+/-/=]\")\n",
    "    inp = input()\n",
    "    compteur += 1"
   ]
  },
  {
   "cell_type": "code",
   "execution_count": null,
   "id": "bb75eb96",
   "metadata": {},
   "outputs": [],
   "source": [
    "# On sort de la boucle, on affiche le nombre de questions posé, le nombre à deviné et un message de sortie\n",
    "if inp == '=':\n",
    "        print(\"Le nombre à deviner était : \",currentValue,\"\\nJ'ai trouvé en \",compteur,\" questions !\\nMerci d'avoir joué \",userName,\"!\")"
   ]
  }
 ],
 "metadata": {
  "kernelspec": {
   "display_name": "Python(New_World)",
   "language": "python",
   "name": "new_world"
  },
  "language_info": {
   "codemirror_mode": {
    "name": "ipython",
    "version": 3
   },
   "file_extension": ".py",
   "mimetype": "text/x-python",
   "name": "python",
   "nbconvert_exporter": "python",
   "pygments_lexer": "ipython3",
   "version": "3.10.0"
  }
 },
 "nbformat": 4,
 "nbformat_minor": 5
}
