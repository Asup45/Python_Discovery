{
 "cells": [
  {
   "cell_type": "code",
   "execution_count": null,
   "id": "d3c665f9",
   "metadata": {},
   "outputs": [],
   "source": [
    "# Créez une liste de vos fruits préférés. \n",
    "# Écrivez un programme qui parcourt cette liste et affiche chaque fruit avec un message, par exemple : \"J'aime les pommes\".\n",
    "fruits = [\"Banane\", \"Pomme\", \"Abricot\", \"Clémentine\", \"Fraise\"]\n",
    "for i in range(0,len(fruits)):\n",
    "    print(f\"J'aime les {fruits[i]}s\")"
   ]
  },
  {
   "cell_type": "code",
   "execution_count": null,
   "id": "5fe441bd",
   "metadata": {},
   "outputs": [],
   "source": [
    "# Créez un dictionnaire représentant les noms de différents pays en tant que clés et leurs capitales en tant que valeurs. \n",
    "# Écrivez un programme qui affiche le nom de chaque pays suivi de sa capitale.\n",
    "payscapitale = {\"Allemagne\":\"Berlin\", \"Australie\":\"Canberra\", \"Belgique\":\"Bruxelles\", \"Brésil\":\"Brasilla\", \"Canda\":\"Ottawa\"}\n",
    "for key, value in payscapitale.items():\n",
    "    print(f\"Le pays {key} à pour capitale {value}.\")"
   ]
  },
  {
   "cell_type": "code",
   "execution_count": null,
   "id": "1f95887c",
   "metadata": {},
   "outputs": [],
   "source": [
    "# Combinez les structures conditionnelles et les boucles pour créer un programme qui demande à l'utilisateur de saisir une série de nombres. \n",
    "# Le programme doit ensuite afficher la somme de tous les nombres positifs saisis.\n",
    "somme = 0\n",
    "for i in range(5):\n",
    "    nombre = int(input(\"Saississez 5 nombres : \"))\n",
    "    somme += nombre\n",
    "print(f\"La somme de tous les nombres est {somme}\")"
   ]
  },
  {
   "cell_type": "code",
   "execution_count": null,
   "id": "8aed3009",
   "metadata": {},
   "outputs": [],
   "source": [
    "# Écrire un petit jeu de devinettes où l'ordinateur choisit un nombre entre 1 et 10, et le joueur doit le deviner. \n",
    "print(\"Bienvenue dans le jeu des devinettes !\")\n",
    "nbOrdi = random.randrange(1,10)\n",
    "guess = None\n",
    "while(guess != nbOrdi):\n",
    "    guess = int(input(\"Essayez de deviner le nombre de l'ordinateur : \"))\n",
    "    if (guess > nbOrdi):\n",
    "        print(f\"{guess} est plus grand que le nombre de l'ordinateur\")\n",
    "    elif (guess < nbOrdi):\n",
    "        print(f\"{guess} est plus petit que le nombre de l'ordinateur\")\n",
    "print(f\"Vous avez gagné !\\nLe nombre a deviné était {nbOrdi}\")"
   ]
  },
  {
   "cell_type": "code",
   "execution_count": null,
   "id": "9a1c6568",
   "metadata": {},
   "outputs": [],
   "source": [
    "# Moyenne des notes\n",
    "\"\"\"liste = []\n",
    "\n",
    "with open('./notes.txt', 'r') as file:\n",
    "    for line in file:\n",
    "        liste.append(float(line))\n",
    "\n",
    "moyenne = sum(liste)/len(liste)\n",
    "print(f\"La moyenne des notes est de {round(moyenne,2)}\")"
   ]
  },
  {
   "cell_type": "code",
   "execution_count": null,
   "id": "e4eb61ee",
   "metadata": {},
   "outputs": [],
   "source": [
    "#- Affiche admis ou recalé selon la note\n",
    "\"\"\"liste = []\n",
    "\n",
    "with open('./notes.txt', 'r') as file:\n",
    "    for line in file:\n",
    "        liste.append(float(line))\n",
    "        if float(line) < 10:\n",
    "            liste.append(\"recalé\")\n",
    "        else:\n",
    "            liste.append(\"admis\")\n",
    "\n",
    "print(liste)"
   ]
  },
  {
   "cell_type": "code",
   "execution_count": null,
   "id": "6d9f155c",
   "metadata": {},
   "outputs": [],
   "source": [
    "#Crée un graphique avec des valeurs (float) allant de 0 à 10 pour chacun des axes\n",
    "X = np.arange(10)\n",
    "Y = np.random.uniform(1,10,10)\n",
    "\n",
    "plt.bar(X,Y)\n",
    "plt.show()"
   ]
  }
 ],
 "metadata": {
  "kernelspec": {
   "display_name": "Python(New_World)",
   "language": "python",
   "name": "new_world"
  },
  "language_info": {
   "codemirror_mode": {
    "name": "ipython",
    "version": 3
   },
   "file_extension": ".py",
   "mimetype": "text/x-python",
   "name": "python",
   "nbconvert_exporter": "python",
   "pygments_lexer": "ipython3",
   "version": "3.10.0"
  }
 },
 "nbformat": 4,
 "nbformat_minor": 5
}
