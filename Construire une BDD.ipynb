{
 "cells": [
  {
   "cell_type": "code",
   "execution_count": null,
   "id": "9dc64ab3",
   "metadata": {},
   "outputs": [],
   "source": [
    "client1 = {}"
   ]
  },
  {
   "cell_type": "code",
   "execution_count": null,
   "id": "e8f34de8",
   "metadata": {},
   "outputs": [],
   "source": [
    "# On crée un dictionnaire pour stocker les informations du premier client\n",
    "client1 = {\"Nom\": \"\", \"Prénom\": \"\", \"Sexe\": \"\", \"Solde\": \"\"}\n",
    "\n",
    "# On fait une boucle for pour récupérer ses informations et les placer dans les bonnes clés\n",
    "for key, value in client1.items():\n",
    "    client1[key] = input(\"Entrez votre Nom, Prénom, Sexe(M/F) ,Solde : \")\n",
    "\n",
    "# On affiche les informations du premier client\n",
    "print(client1)"
   ]
  },
  {
   "cell_type": "code",
   "execution_count": null,
   "id": "39848744",
   "metadata": {},
   "outputs": [],
   "source": [
    "# On crée 12 dictionnaire pour stocker les informations des clients\n",
    "client1 = {\"Nom\": \"\", \"Prénom\": \"\", \"Sexe\": \"\", \"Solde\": \"\"}\n",
    "client2 = {\"Nom\": \"\", \"Prénom\": \"\", \"Sexe\": \"\", \"Solde\": \"\"}\n",
    "client3 = {\"Nom\": \"\", \"Prénom\": \"\", \"Sexe\": \"\", \"Solde\": \"\"}\n",
    "client4 = {\"Nom\": \"\", \"Prénom\": \"\", \"Sexe\": \"\", \"Solde\": \"\"}\n",
    "client5 = {\"Nom\": \"\", \"Prénom\": \"\", \"Sexe\": \"\", \"Solde\": \"\"}\n",
    "client6 = {\"Nom\": \"\", \"Prénom\": \"\", \"Sexe\": \"\", \"Solde\": \"\"}\n",
    "client7 = {\"Nom\": \"\", \"Prénom\": \"\", \"Sexe\": \"\", \"Solde\": \"\"}\n",
    "client8 = {\"Nom\": \"\", \"Prénom\": \"\", \"Sexe\": \"\", \"Solde\": \"\"}\n",
    "client9 = {\"Nom\": \"\", \"Prénom\": \"\", \"Sexe\": \"\", \"Solde\": \"\"}\n",
    "client10 = {\"Nom\": \"\", \"Prénom\": \"\", \"Sexe\": \"\", \"Solde\": \"\"}\n",
    "client11 = {\"Nom\": \"\", \"Prénom\": \"\", \"Sexe\": \"\", \"Solde\": \"\"}\n",
    "client12 = {\"Nom\": \"\", \"Prénom\": \"\", \"Sexe\": \"\", \"Solde\": \"\"}\n",
    "Totalclient = [client1, client2, client3, client4, client5, client6, client7, client8, client9, client10, client11, client12]"
   ]
  },
  {
   "cell_type": "code",
   "execution_count": null,
   "id": "29cb74e7",
   "metadata": {},
   "outputs": [],
   "source": [
    "# Boucle pour récuperer les données de tous les clients\n",
    "for client in Totalclient:\n",
    "    nom = input(client[\"Nom\"])\n",
    "    prenom = input(client[\"Prénom\"])\n",
    "    sexe = input(client[\"Sexe\"])\n",
    "    solde = input(client[\"Solde\"])\n",
    "\n",
    "    # On affiche les informations des clients\n",
    "    print(f\"Voici les information des clients :\\nNom: {nom}, Prénom: {prenom}, Sexe: {sexe}, Solde: {solde}\")"
   ]
  },
  {
   "cell_type": "code",
   "execution_count": null,
   "id": "807a6389",
   "metadata": {},
   "outputs": [],
   "source": [
    " if Totalclient[key] == \"Solde\">500\n",
    "    Totalclient[5].update({\"Solde\": -500})"
   ]
  },
  {
   "cell_type": "code",
   "execution_count": null,
   "id": "f7eb3d83",
   "metadata": {},
   "outputs": [],
   "source": [
    "TotalSolde = 0\n",
    "for i in range(0, len(Totalclient)):\n",
    "    if key == \"Solde\":\n",
    "        TotalSolde += value\n",
    "print(TotalSolde)"
   ]
  },
  {
   "cell_type": "code",
   "execution_count": null,
   "id": "372e4fe0",
   "metadata": {},
   "outputs": [],
   "source": [
    "cptM = 0\n",
    "cptF = 0\n",
    "for i in range(0, len(Totalclient)):\n",
    "    if key == \"Sexe\" and value == \"M\":\n",
    "        cptM += 1\n",
    "    elif key == \"Sexe\" and value == \"F\":\n",
    "        cptF += 1\n",
    "print(f\"Le nombre de clients masculins est de {cptM} et le nombre de clients féminins est de {cptF}\")"
   ]
  },
  {
   "cell_type": "code",
   "execution_count": null,
   "id": "adc5f65b",
   "metadata": {},
   "outputs": [],
   "source": [
    "client14 = {\"Nom\": \"KURDY\", \"Prénom\": \"Bassam\", \"Sexe\": \"M\", \"Solde\": \"2000\"}\n",
    "Totalclient.append(client14)"
   ]
  }
 ],
 "metadata": {
  "kernelspec": {
   "display_name": "Python(New_World)",
   "language": "python",
   "name": "new_world"
  },
  "language_info": {
   "codemirror_mode": {
    "name": "ipython",
    "version": 3
   },
   "file_extension": ".py",
   "mimetype": "text/x-python",
   "name": "python",
   "nbconvert_exporter": "python",
   "pygments_lexer": "ipython3",
   "version": "3.10.0"
  }
 },
 "nbformat": 4,
 "nbformat_minor": 5
}
